{
 "cells": [
  {
   "cell_type": "markdown",
   "metadata": {},
   "source": [
    "# Algothon Kaggle "
   ]
  },
  {
   "cell_type": "code",
   "execution_count": 1,
   "metadata": {},
   "outputs": [],
   "source": [
    "import numpy as np\n",
    "import pandas as pd\n",
    "import quandl\n",
    "import pickle \n",
    "import requests\n",
    "import matplotlib.pyplot as plt\n",
    "from bs4 import BeautifulSoup"
   ]
  },
  {
   "cell_type": "code",
   "execution_count": 48,
   "metadata": {},
   "outputs": [],
   "source": [
    "#Read one pickle file \n",
    "df = pd.read_pickle(r'F:/Algothon/Reuters/20070101.pkl')"
   ]
  },
  {
   "cell_type": "markdown",
   "metadata": {},
   "source": [
    "Inspect one article object"
   ]
  },
  {
   "cell_type": "code",
   "execution_count": 50,
   "metadata": {},
   "outputs": [
    {
     "data": {
      "text/plain": [
       "{'ts': '20070101\\xa011:47 PM EST',\n",
       " 'title': 'UPDATE 1-TSMC plans five new advanced wafer plants -paper',\n",
       " 'href': 'http://www.reuters.com/article/companyNewsAndPR/idUSTP13157220070102'}"
      ]
     },
     "execution_count": 50,
     "metadata": {},
     "output_type": "execute_result"
    }
   ],
   "source": [
    "df[0]"
   ]
  },
  {
   "cell_type": "code",
   "execution_count": 51,
   "metadata": {},
   "outputs": [
    {
     "data": {
      "text/plain": [
       "'http://www.reuters.com/article/companyNewsAndPR/idUSTP13157220070102'"
      ]
     },
     "execution_count": 51,
     "metadata": {},
     "output_type": "execute_result"
    }
   ],
   "source": [
    "df[0]['href']"
   ]
  },
  {
   "cell_type": "markdown",
   "metadata": {},
   "source": [
    "Scrape the web page "
   ]
  },
  {
   "cell_type": "code",
   "execution_count": 40,
   "metadata": {},
   "outputs": [],
   "source": [
    "pageTree = requests.get(df[0]['href'])\n",
    "pageSoup = BeautifulSoup(pageTree.content, 'html.parser')"
   ]
  },
  {
   "cell_type": "code",
   "execution_count": 47,
   "metadata": {},
   "outputs": [],
   "source": [
    "#pageSoup.prettify()"
   ]
  },
  {
   "cell_type": "code",
   "execution_count": 43,
   "metadata": {},
   "outputs": [],
   "source": [
    "news = pageSoup.find_all(class_=\"StandardArticleBody_body\")"
   ]
  },
  {
   "cell_type": "code",
   "execution_count": 56,
   "metadata": {},
   "outputs": [
    {
     "data": {
      "text/plain": [
       "'January 21, 2007 /  6:47 AM / 12 years ago'"
      ]
     },
     "execution_count": 56,
     "metadata": {},
     "output_type": "execute_result"
    }
   ],
   "source": [
    "date = pageSoup.find_all(class_=\"ArticleHeader_date\")\n",
    "date[0].get_text()"
   ]
  },
  {
   "cell_type": "code",
   "execution_count": 46,
   "metadata": {},
   "outputs": [
    {
     "name": "stdout",
     "output_type": "stream",
     "text": [
      " (Adds TSMC’s comments)   TAIPEI, Jan 2 (Reuters) - TSMC (2330.TW) plans to build five new advanced 12-inch wafer plants on the island in the next few years, a local newspaper said on Tuesday, after a government move to allow companies to make more advanced chips in China.   On the plants’ completion, Taiwan Semiconductor Manufacturing Co. Ltd. (TSMC) (TSM.N), the world’s top contract chip maker, would have a total of seven 12-inch factories in Taiwan, the Economic Daily News quoted unidentified officials at the economics ministry as saying.   A chip plant costs about $2 billion to $3 billion.   Officials at the economics ministry were not available for comment.   J.H. Tzeng, a TSMC spokesman, declined to confirm or deny the report, only saying that “TSMC has said it would continue to invest in Taiwan and has plans to build more plants”.   TSMC has said its 2007 capital spending budget will be slightly higher than the $2.6 billion set for 2006, Tzeng said. No dollar estimates were given yet.  While TSMC and other contract chip makers are suffering from high inventories caused by slower-than-expected demand for personal computers and some consumer products, analysts say the foundry industry might hit bottom early this year.   By around noon, TSMC's Taipei-listed shares had risen 0.44 percent to T$67.80, lagging the main TAIEX share index's .TWII 1.26 percent gain.   In 2009, there will be a total of 18 12-inch wafer factories in Taiwan, including new fabs built by memory chip makers, the Chinese-language newspaper said.   Taiwan on Friday approved an investment revision that allows local chip makers to export more advanced technology to China to boost competition and manufacturing efficiency, but chip makers would still make chips using cutting-edge technology in Taiwan.   TSMC currently has one 8-inch wafer plant in Shanghai.   Click [ID:nTP169580] for details on the new rule.   Taiwan and China have been ruled separately since the end of a civil war in 1949, with the Taipei government restricting investment in the sensitive high-end tech sector on concerns about the island’s economy becoming over-reliant on the mainland.  (US$1=T$32.5)    Our Standards:The Thomson Reuters Trust Principles.\n"
     ]
    }
   ],
   "source": [
    "for i in news:\n",
    "    print(i.get_text())"
   ]
  },
  {
   "cell_type": "code",
   "execution_count": 75,
   "metadata": {},
   "outputs": [
    {
     "data": {
      "text/plain": [
       "\" (Adds TSMC’s comments)   TAIPEI, Jan 2 (Reuters) - TSMC (2330.TW) plans to build five new advanced 12-inch wafer plants on the island in the next few years, a local newspaper said on Tuesday, after a government move to allow companies to make more advanced chips in China.   On the plants’ completion, Taiwan Semiconductor Manufacturing Co. Ltd. (TSMC) (TSM.N), the world’s top contract chip maker, would have a total of seven 12-inch factories in Taiwan, the Economic Daily News quoted unidentified officials at the economics ministry as saying.   A chip plant costs about $2 billion to $3 billion.   Officials at the economics ministry were not available for comment.   J.H. Tzeng, a TSMC spokesman, declined to confirm or deny the report, only saying that “TSMC has said it would continue to invest in Taiwan and has plans to build more plants”.   TSMC has said its 2007 capital spending budget will be slightly higher than the $2.6 billion set for 2006, Tzeng said. No dollar estimates were given yet.  While TSMC and other contract chip makers are suffering from high inventories caused by slower-than-expected demand for personal computers and some consumer products, analysts say the foundry industry might hit bottom early this year.   By around noon, TSMC's Taipei-listed shares had risen 0.44 percent to T$67.80, lagging the main TAIEX share index's .TWII 1.26 percent gain.   In 2009, there will be a total of 18 12-inch wafer factories in Taiwan, including new fabs built by memory chip makers, the Chinese-language newspaper said.   Taiwan on Friday approved an investment revision that allows local chip makers to export more advanced technology to China to boost competition and manufacturing efficiency, but chip makers would still make chips using cutting-edge technology in Taiwan.   TSMC currently has one 8-inch wafer plant in Shanghai.   Click [ID:nTP169580] for details on the new rule.   Taiwan and China have been ruled separately since the end of a civil war in 1949, with the Taipei government restricting investment in the sensitive high-end tech sector on concerns about the island’s economy becoming over-reliant on the mainland.  (US$1=T$32.5)    \""
      ]
     },
     "execution_count": 75,
     "metadata": {},
     "output_type": "execute_result"
    }
   ],
   "source": [
    "text = news[0].find_all('p')\n",
    "#for i in text:\n",
    "    #print (i.get_text())\n",
    "newstext = [i.get_text() for i in text]\n",
    "newswords = ''.join(newstext)\n",
    "newswords"
   ]
  },
  {
   "cell_type": "code",
   "execution_count": 76,
   "metadata": {},
   "outputs": [
    {
     "data": {
      "text/plain": [
       "str"
      ]
     },
     "execution_count": 76,
     "metadata": {},
     "output_type": "execute_result"
    }
   ],
   "source": [
    "#Check data type \n",
    "type(newswords)"
   ]
  },
  {
   "cell_type": "code",
   "execution_count": 95,
   "metadata": {},
   "outputs": [
    {
     "data": {
      "text/plain": [
       "'http://www.reuters.com/article/companyNewsAndPR/idUSTP13157220070102'"
      ]
     },
     "execution_count": 95,
     "metadata": {},
     "output_type": "execute_result"
    }
   ],
   "source": [
    "df[0]['href']"
   ]
  },
  {
   "cell_type": "code",
   "execution_count": 101,
   "metadata": {},
   "outputs": [
    {
     "data": {
      "text/plain": [
       "list"
      ]
     },
     "execution_count": 101,
     "metadata": {},
     "output_type": "execute_result"
    }
   ],
   "source": [
    "type(df)"
   ]
  },
  {
   "cell_type": "code",
   "execution_count": 102,
   "metadata": {},
   "outputs": [
    {
     "data": {
      "text/plain": [
       "[{'bl': \" (Adds TSMC’s comments)   TAIPEI, Jan 2 (Reuters) - TSMC (2330.TW) plans to build five new advanced 12-inch wafer plants on the island in the next few years, a local newspaper said on Tuesday, after a government move to allow companies to make more advanced chips in China.   On the plants’ completion, Taiwan Semiconductor Manufacturing Co. Ltd. (TSMC) (TSM.N), the world’s top contract chip maker, would have a total of seven 12-inch factories in Taiwan, the Economic Daily News quoted unidentified officials at the economics ministry as saying.   A chip plant costs about $2 billion to $3 billion.   Officials at the economics ministry were not available for comment.   J.H. Tzeng, a TSMC spokesman, declined to confirm or deny the report, only saying that “TSMC has said it would continue to invest in Taiwan and has plans to build more plants”.   TSMC has said its 2007 capital spending budget will be slightly higher than the $2.6 billion set for 2006, Tzeng said. No dollar estimates were given yet.  While TSMC and other contract chip makers are suffering from high inventories caused by slower-than-expected demand for personal computers and some consumer products, analysts say the foundry industry might hit bottom early this year.   By around noon, TSMC's Taipei-listed shares had risen 0.44 percent to T$67.80, lagging the main TAIEX share index's .TWII 1.26 percent gain.   In 2009, there will be a total of 18 12-inch wafer factories in Taiwan, including new fabs built by memory chip makers, the Chinese-language newspaper said.   Taiwan on Friday approved an investment revision that allows local chip makers to export more advanced technology to China to boost competition and manufacturing efficiency, but chip makers would still make chips using cutting-edge technology in Taiwan.   TSMC currently has one 8-inch wafer plant in Shanghai.   Click [ID:nTP169580] for details on the new rule.   Taiwan and China have been ruled separately since the end of a civil war in 1949, with the Taipei government restricting investment in the sensitive high-end tech sector on concerns about the island’s economy becoming over-reliant on the mainland.  (US$1=T$32.5)    \"}]"
      ]
     },
     "execution_count": 102,
     "metadata": {},
     "output_type": "execute_result"
    }
   ],
   "source": [
    "[oab]"
   ]
  },
  {
   "cell_type": "code",
   "execution_count": 96,
   "metadata": {},
   "outputs": [],
   "source": [
    "oab = {\"bl\": newswords}"
   ]
  },
  {
   "cell_type": "code",
   "execution_count": 104,
   "metadata": {},
   "outputs": [],
   "source": [
    "with open(r'F:/Algothon/boo.pkl', 'wb') as f:\n",
    "    pickle.dump(oab, f)"
   ]
  },
  {
   "cell_type": "code",
   "execution_count": 80,
   "metadata": {},
   "outputs": [],
   "source": [
    "pageTree1 = requests.get(df[-1]['href'])\n",
    "pageSoup1 = BeautifulSoup(pageTree1.content, 'html.parser')\n",
    "news1 = pageSoup1.find_all(class_=\"StandardArticleBody_body\")"
   ]
  },
  {
   "cell_type": "code",
   "execution_count": 108,
   "metadata": {},
   "outputs": [
    {
     "data": {
      "text/plain": [
       "[{'ts': '20070101\\xa011:47 PM EST',\n",
       "  'title': 'UPDATE 1-TSMC plans five new advanced wafer plants -paper',\n",
       "  'href': 'http://www.reuters.com/article/companyNewsAndPR/idUSTP13157220070102'},\n",
       " {'ts': '20070101\\xa011:40 PM EST',\n",
       "  'title': 'U2 roadie gets a moment in the spotlight',\n",
       "  'href': 'http://www.reuters.com/article/musicNews/idUSN3126672520070102'},\n",
       " {'ts': '20070101\\xa011:12 PM EST',\n",
       "  'title': 'Vietnamese family tested negative for bird flu',\n",
       "  'href': 'http://www.reuters.com/article/globalNews/idUSHAN8311820070102'},\n",
       " {'ts': '20070101\\xa010:58 PM EST',\n",
       "  'title': 'Chicago jazz mecca closes doors, perhaps forever',\n",
       "  'href': 'http://www.reuters.com/article/musicNews/idUSN2927338620070102'},\n",
       " {'ts': '20070101\\xa010:56 PM EST',\n",
       "  'title': '\"Factory Girl\" affords more fame to Warhol muse',\n",
       "  'href': 'http://www.reuters.com/article/entertainmentNews/idUSN2820662920070102'},\n",
       " {'ts': '20070101\\xa010:32 PM EST',\n",
       "  'title': 'TSMC plans five new 12-inch wafer plants -paper',\n",
       "  'href': 'http://www.reuters.com/article/companyNewsAndPR/idUSTP15519320070102'},\n",
       " {'ts': '20070101\\xa010:16 PM EST',\n",
       "  'title': 'Fanfare, fireworks as Romania and Bulgaria join EU',\n",
       "  'href': 'http://www.reuters.com/article/worldNews/idUSL2977273320070102'},\n",
       " {'ts': '20070101\\xa009:57 PM EST',\n",
       "  'title': 'PRESS DIGEST - Financial Times - Jan 2',\n",
       "  'href': 'http://www.reuters.com/article/companyNewsAndPR/idUSL0286658220070102'},\n",
       " {'ts': '20070101\\xa009:31 PM EST',\n",
       "  'title': 'U2 dusted off rarities for world tour',\n",
       "  'href': 'http://www.reuters.com/article/musicNews/idUSN3126673020070102'},\n",
       " {'ts': '20070101\\xa009:13 PM EST',\n",
       "  'title': 'PRESS DIGEST - British business - Jan 2',\n",
       "  'href': 'http://www.reuters.com/article/companyNewsAndPR/idUSL0263419320070102'},\n",
       " {'ts': '20070101\\xa009:11 PM EST',\n",
       "  'title': 'Networks air more Saddam execution video',\n",
       "  'href': 'http://www.reuters.com/article/entertainmentNews/idUSN2821679420070102'},\n",
       " {'ts': '20070101\\xa009:04 PM EST',\n",
       "  'title': 'Ninety killed in Indonesian plane crash: radio',\n",
       "  'href': 'http://www.reuters.com/article/worldNews/idUSJAK13827120070102'},\n",
       " {'ts': '20070101\\xa008:42 PM EST',\n",
       "  'title': 'Missing Indonesia plane crashed in mountains: radio',\n",
       "  'href': 'http://www.reuters.com/article/worldNews/idUSJAK11881020070102'},\n",
       " {'ts': '20070101\\xa008:42 PM EST',\n",
       "  'title': 'PRESS DIGEST - British business - Jan 1',\n",
       "  'href': 'http://www.reuters.com/article/companyNewsAndPR/idUSL0288169320070102'},\n",
       " {'ts': '20070101\\xa008:00 PM EST',\n",
       "  'title': 'Cardinals sack Green after three losing seasons',\n",
       "  'href': 'http://www.reuters.com/article/sportsNews/idUSL0169846820070102'},\n",
       " {'ts': '20070101\\xa007:33 PM EST',\n",
       "  'title': 'Iraqis ponder lessons of history after Saddam hangs',\n",
       "  'href': 'http://www.reuters.com/article/inDepthNews/idUSPAR15182820070102'},\n",
       " {'ts': '20070101\\xa007:25 PM EST',\n",
       "  'title': 'Cuba condemns \"illegal\" Saddam Hussein execution',\n",
       "  'href': 'http://www.reuters.com/article/topNews/idUSN0129395520070102'},\n",
       " {'ts': '20070101\\xa007:23 PM EST',\n",
       "  'title': 'Sanofi head criticises generic drug makers - FT',\n",
       "  'href': 'http://www.reuters.com/article/companyNewsAndPR/idUSL0187757720070102'},\n",
       " {'ts': '20070101\\xa007:12 PM EST',\n",
       "  'title': 'Goodyear workers ratify three-year contract',\n",
       "  'href': 'http://www.reuters.com/article/ousiv/idUSN2922005220070102'},\n",
       " {'ts': '20070101\\xa007:12 PM EST',\n",
       "  'title': 'Dolly for dinner? Not just yet, critics say',\n",
       "  'href': 'http://www.reuters.com/article/ousiv/idUSWBT00634920070102'},\n",
       " {'ts': '20070101\\xa007:12 PM EST',\n",
       "  'title': 'Stock rally of 2006 smiled on all sectors',\n",
       "  'href': 'http://www.reuters.com/article/ousiv/idUSN2925611320070102'},\n",
       " {'ts': '20070101\\xa007:12 PM EST',\n",
       "  'title': 'Apple posts options expenses, stands by CEO Jobs',\n",
       "  'href': 'http://www.reuters.com/article/ousiv/idUSN2922803620070102'},\n",
       " {'ts': '20070101\\xa007:01 PM EST',\n",
       "  'title': \"Placido Domingo backs NY Met's opera at cinema push\",\n",
       "  'href': 'http://www.reuters.com/article/musicNews/idUSN2919703720070102'},\n",
       " {'ts': '20070101\\xa006:59 PM EST',\n",
       "  'title': 'UK newcomer a \"Rae\" of light at Grammys',\n",
       "  'href': 'http://www.reuters.com/article/entertainmentNews/idUSN0126427220070101'},\n",
       " {'ts': '20070101\\xa006:36 PM EST',\n",
       "  'title': 'Dollar a shade softer, yen stays subdued',\n",
       "  'href': 'http://www.reuters.com/article/globalMarketsNews/idUSN2941694320070101'},\n",
       " {'ts': '20070101\\xa006:17 PM EST',\n",
       "  'title': 'Iraq to probe filming of Saddam hanging',\n",
       "  'href': 'http://www.reuters.com/article/topNews/idUSL30803120070101'},\n",
       " {'ts': '20070101\\xa006:04 PM EST',\n",
       "  'title': 'EU newcomers hopeful, anxious about membership',\n",
       "  'href': 'http://www.reuters.com/article/inDepthNews/idUSL0185119420070101'},\n",
       " {'ts': '20070101\\xa006:01 PM EST',\n",
       "  'title': 'Australian lexicon can leave you a few roos loose',\n",
       "  'href': 'http://www.reuters.com/article/inDepthNews/idUSSYD13951520070101'},\n",
       " {'ts': '20070101\\xa005:55 PM EST',\n",
       "  'title': 'Greying workers wanted for hire in aging Japan',\n",
       "  'href': 'http://www.reuters.com/article/inDepthNews/idUST13946420070101'},\n",
       " {'ts': '20070101\\xa005:51 PM EST',\n",
       "  'title': 'Photographer, Palestinian gunmen abducted in Gaza',\n",
       "  'href': 'http://www.reuters.com/article/worldNews/idUSL0188700420070101'},\n",
       " {'ts': '20070101\\xa005:42 PM EST',\n",
       "  'title': 'Iraq civilian deaths hit new record: ministry',\n",
       "  'href': 'http://www.reuters.com/article/topNews/idUSMAC17618620070101'},\n",
       " {'ts': '20070101\\xa005:34 PM EST',\n",
       "  'title': 'In kidnapping, finesse works best',\n",
       "  'href': 'http://www.reuters.com/article/inDepthNews/idUSN1130230420070101'},\n",
       " {'ts': '20070101\\xa005:31 PM EST',\n",
       "  'title': \"India's forgotten tribes gain rights over forests\",\n",
       "  'href': 'http://www.reuters.com/article/inDepthNews/idUSDEL25463820070101'},\n",
       " {'ts': '20070101\\xa005:26 PM EST',\n",
       "  'title': 'Horse meat, kale and crickets on menu at Bronx zoo',\n",
       "  'href': 'http://www.reuters.com/article/inDepthNews/idUSN2821130020070101'},\n",
       " {'ts': '20070101\\xa005:23 PM EST',\n",
       "  'title': 'Dead leaders drive Lebanese political life',\n",
       "  'href': 'http://www.reuters.com/article/inDepthNews/idUSL2215259520070101'},\n",
       " {'ts': '20070101\\xa005:18 PM EST',\n",
       "  'title': \"Priest's death shows Russia's rural rot\",\n",
       "  'href': 'http://www.reuters.com/article/inDepthNews/idUSL2733377520070101'},\n",
       " {'ts': '20070101\\xa005:15 PM EST',\n",
       "  'title': 'Celebrating New Year in deadly Safrican hotspot',\n",
       "  'href': 'http://www.reuters.com/article/inDepthNews/idUSL0160780920070101'},\n",
       " {'ts': '20070101\\xa005:12 PM EST',\n",
       "  'title': 'Iraqis ponder lessons of history after Saddam hangs',\n",
       "  'href': 'http://www.reuters.com/article/inDepthNews/idUSPAR15182820070101'},\n",
       " {'ts': '20070101\\xa004:40 PM EST',\n",
       "  'title': 'Knight passes Smith to become all-time wins leader',\n",
       "  'href': 'http://www.reuters.com/article/sportsNews/idUSN0128981320070101'},\n",
       " {'ts': '20070101\\xa004:28 PM EST',\n",
       "  'title': 'Cardinals sack Green after three losing seasons',\n",
       "  'href': 'http://www.reuters.com/article/sportsNews/idUSL0169846820070101'},\n",
       " {'ts': '20070101\\xa004:19 PM EST',\n",
       "  'title': 'Holiday over, Bush set to wrestle with Iraq policy',\n",
       "  'href': 'http://www.reuters.com/article/topNews/idUSN0126144620070101'},\n",
       " {'ts': '20070101\\xa004:17 PM EST',\n",
       "  'title': 'Study links post-traumatic stress to heart disease',\n",
       "  'href': 'http://www.reuters.com/article/healthNews/idUSN2925306820070101'},\n",
       " {'ts': '20070101\\xa004:16 PM EST',\n",
       "  'title': 'Physical abuse leads to adult depression: US study',\n",
       "  'href': 'http://www.reuters.com/article/healthNews/idUSN2924492920070101'},\n",
       " {'ts': '20070101\\xa004:14 PM EST',\n",
       "  'title': \"Brazil's Lula pledges economic growth in 2nd term\",\n",
       "  'href': 'http://www.reuters.com/article/worldNews/idUSN2838881720070101'},\n",
       " {'ts': '20070101\\xa003:55 PM EST',\n",
       "  'title': 'Calendar: Upcoming Arts, Culture & ShowBiz Events (January)',\n",
       "  'href': 'http://www.reuters.com/article/entertainmentNews/idUSN0142233720070101'},\n",
       " {'ts': '20070101\\xa003:45 PM EST',\n",
       "  'title': 'Taking office at UN, Ban faces key decisions',\n",
       "  'href': 'http://www.reuters.com/article/worldNews/idUSN0128423220070101'},\n",
       " {'ts': '20070101\\xa003:44 PM EST',\n",
       "  'title': 'Search under way for plane carrying 102 in Indonesia',\n",
       "  'href': 'http://www.reuters.com/article/worldNews/idUSJAK14943920070101'},\n",
       " {'ts': '20070101\\xa003:32 PM EST',\n",
       "  'title': 'Falcons fire head coach Mora after 7-9 campaign',\n",
       "  'href': 'http://www.reuters.com/article/sportsNews/idUSN0129036920070101'},\n",
       " {'ts': '20070101\\xa003:22 PM EST',\n",
       "  'title': 'FACTBOX-Secretaries-general of the United Nations',\n",
       "  'href': 'http://www.reuters.com/article/worldNews/idUSN2745698820070101'},\n",
       " {'ts': '20070101\\xa003:17 PM EST',\n",
       "  'title': \"Plane violates airspace over President Bush's ranch\",\n",
       "  'href': 'http://www.reuters.com/article/domesticNews/idUSN0130594520070101'},\n",
       " {'ts': '20070101\\xa003:15 PM EST',\n",
       "  'title': 'Somali Islamists flee toward Kenya and to the hills',\n",
       "  'href': 'http://www.reuters.com/article/worldNews/idUSL2874152620070101'},\n",
       " {'ts': '20070101\\xa003:15 PM EST',\n",
       "  'title': 'Somalis stroll Mogadishu under eye of govt victors',\n",
       "  'href': 'http://www.reuters.com/article/worldNews/idUSL0189682420070101'},\n",
       " {'ts': '20070101\\xa003:03 PM EST',\n",
       "  'title': 'Fanfare, fireworks as Romanian and Bulgaria join EU',\n",
       "  'href': 'http://www.reuters.com/article/worldNews/idUSL2977273320070101'},\n",
       " {'ts': '20070101\\xa002:55 PM EST',\n",
       "  'title': 'President says next Serb government must unblock EU path',\n",
       "  'href': 'http://www.reuters.com/article/worldNews/idUSBIL14529220070101'},\n",
       " {'ts': '20070101\\xa002:55 PM EST',\n",
       "  'title': 'CHRONOLOGY - Growth of the European Union',\n",
       "  'href': 'http://www.reuters.com/article/worldNews/idUSL3185641720070101'},\n",
       " {'ts': '20070101\\xa002:55 PM EST',\n",
       "  'title': 'FACTBOX - Key facts on EU entrants Romania and Bulgaria',\n",
       "  'href': 'http://www.reuters.com/article/worldNews/idUSL3185623420070101'},\n",
       " {'ts': '20070101\\xa002:42 PM EST',\n",
       "  'title': 'Top movies at the North American box office',\n",
       "  'href': 'http://www.reuters.com/article/filmNews/idUSN1528321320070101'},\n",
       " {'ts': '20070101\\xa002:25 PM EST',\n",
       "  'title': 'Stiller, Smith achieve box office milestones',\n",
       "  'href': 'http://www.reuters.com/article/topNews/idUSN3125640520070101'},\n",
       " {'ts': '20070101\\xa002:06 PM EST',\n",
       "  'title': 'Denver Broncos football player shot, killed',\n",
       "  'href': 'http://www.reuters.com/article/sportsNews/idUSN0129556320070101'},\n",
       " {'ts': '20070101\\xa002:03 PM EST',\n",
       "  'title': 'U.S. sought to delay Saddam execution: Iraqi source',\n",
       "  'href': 'http://www.reuters.com/article/newsOne/idUSMAC15483520070101'},\n",
       " {'ts': '20070101\\xa002:03 PM EST',\n",
       "  'title': \"Iraqis see U.S. push against Sadr's Mehdi Army\",\n",
       "  'href': 'http://www.reuters.com/article/newsOne/idUSKAR15036620070101'},\n",
       " {'ts': '20070101\\xa002:01 PM EST',\n",
       "  'title': 'Stiller, Smith achieve box office milestones',\n",
       "  'href': 'http://www.reuters.com/article/companyNewsAndPR/idUSN0128924020070101'},\n",
       " {'ts': '20070101\\xa001:48 PM EST',\n",
       "  'title': 'Pilgrims rush to end rites on final day of haj',\n",
       "  'href': 'http://www.reuters.com/article/worldNews/idUSL3090240620070101'},\n",
       " {'ts': '20070101\\xa001:31 PM EST',\n",
       "  'title': 'Iraq shuts TV channel for inciting sectarianism',\n",
       "  'href': 'http://www.reuters.com/article/topNews/idUSPAR14741920070101'},\n",
       " {'ts': '20070101\\xa012:53 PM EST',\n",
       "  'title': 'Two U.S. soldiers killed in Iraq',\n",
       "  'href': 'http://www.reuters.com/article/topNews/idUSIBO16280220070101'},\n",
       " {'ts': '20070101\\xa012:15 PM EST',\n",
       "  'title': 'Thai PM blames ex-politicians for bombs',\n",
       "  'href': 'http://www.reuters.com/article/worldNews/idUSBKK14460620070101'},\n",
       " {'ts': '20070101\\xa011:57 AM EST',\n",
       "  'title': 'BNP Paribas top 2006 M&A adviser in France -survey',\n",
       "  'href': 'http://www.reuters.com/article/companyNewsAndPR/idUSL0187120620070101'},\n",
       " {'ts': '20070101\\xa011:50 AM EST',\n",
       "  'title': 'Tired pilgrims seek transport on last day of haj',\n",
       "  'href': 'http://www.reuters.com/article/worldNews/idUSL0189630320070101'},\n",
       " {'ts': '20070101\\xa011:27 AM EST',\n",
       "  'title': 'FACTBOX-Indonesian air disasters',\n",
       "  'href': 'http://www.reuters.com/article/worldNews/idUSL0188670820070101'},\n",
       " {'ts': '20070101\\xa010:57 AM EST',\n",
       "  'title': 'TEXT-Internet Gold completes 012 Golden Lines purchase',\n",
       "  'href': 'http://www.reuters.com/article/companyNewsAndPR/idUSL0189775620070101'},\n",
       " {'ts': '20070101\\xa010:49 AM EST',\n",
       "  'title': 'Eritrea blames Washington for Somalia war',\n",
       "  'href': 'http://www.reuters.com/article/worldNews/idUSL0189660520070101'},\n",
       " {'ts': '20070101\\xa010:49 AM EST',\n",
       "  'title': \"Chronology of Somalia's collapse, conflict\",\n",
       "  'href': 'http://www.reuters.com/article/worldNews/idUSL0188726320070101'},\n",
       " {'ts': '20070101\\xa010:34 AM EST',\n",
       "  'title': 'UPDATE 1-Peru consumer prices rose 1.14 percent in 2006',\n",
       "  'href': 'http://www.reuters.com/article/companyNewsAndPR/idUSN0116566320070101'},\n",
       " {'ts': '20070101\\xa010:03 AM EST',\n",
       "  'title': 'Seoul antitrust body forms team on Qualcomm-report',\n",
       "  'href': 'http://www.reuters.com/article/companyNewsAndPR/idUSSEO15584820070101'},\n",
       " {'ts': '20070101\\xa009:55 AM EST',\n",
       "  'title': 'Sunni party office hit in U.S. raid in Iraq',\n",
       "  'href': 'http://www.reuters.com/article/topNews/idUSPAR14223020070101'},\n",
       " {'ts': '20070101\\xa009:19 AM EST',\n",
       "  'title': 'Saddam Hussein read, gardened, fed birds in custody',\n",
       "  'href': 'http://www.reuters.com/article/topNews/idUSN0128477020070101'},\n",
       " {'ts': '20070101\\xa008:39 AM EST',\n",
       "  'title': 'LSE beats record for IPO fund raising',\n",
       "  'href': 'http://www.reuters.com/article/ousiv/idUSL2981037320070101'},\n",
       " {'ts': '20070101\\xa008:39 AM EST',\n",
       "  'title': 'AT&T closes $86 billion BellSouth deal',\n",
       "  'href': 'http://www.reuters.com/article/ousiv/idUSWBT00636120070101'},\n",
       " {'ts': '20070101\\xa008:39 AM EST',\n",
       "  'title': 'Dolly for dinner? Not just yet, critics say',\n",
       "  'href': 'http://www.reuters.com/article/ousiv/idUSWBT00634920070101'},\n",
       " {'ts': '20070101\\xa008:39 AM EST',\n",
       "  'title': 'Stock rally of 2006 smiled on all sectors',\n",
       "  'href': 'http://www.reuters.com/article/ousiv/idUSN2925611320070101'},\n",
       " {'ts': '20070101\\xa008:39 AM EST',\n",
       "  'title': \"Chrysler signs small-car deal with China's Chery\",\n",
       "  'href': 'http://www.reuters.com/article/ousiv/idUSN2925137520070101'},\n",
       " {'ts': '20070101\\xa008:39 AM EST',\n",
       "  'title': 'Apple posts options expenses, stands by CEO Jobs',\n",
       "  'href': 'http://www.reuters.com/article/ousiv/idUSN2922803620070101'},\n",
       " {'ts': '20070101\\xa008:39 AM EST',\n",
       "  'title': 'Goodyear workers ratify three-year contract',\n",
       "  'href': 'http://www.reuters.com/article/ousiv/idUSN2922005220070101'},\n",
       " {'ts': '20070101\\xa008:39 AM EST',\n",
       "  'title': 'Wal-Mart sees December same-store sales up',\n",
       "  'href': 'http://www.reuters.com/article/ousiv/idUSMOL07367220070101'},\n",
       " {'ts': '20070101\\xa008:39 AM EST',\n",
       "  'title': \"Gazprom's Sakhalin-2 buy may let EBRD off the hook\",\n",
       "  'href': 'http://www.reuters.com/article/ousiv/idUSL3188275620070101'},\n",
       " {'ts': '20070101\\xa008:39 AM EST',\n",
       "  'title': 'Russia, Belarus sign gas deal',\n",
       "  'href': 'http://www.reuters.com/article/ousiv/idUSL3084973120070101'},\n",
       " {'ts': '20070101\\xa008:36 AM EST',\n",
       "  'title': 'FACTBOX-Belarus agrees to pay more for Russian gas',\n",
       "  'href': 'http://www.reuters.com/article/companyNewsAndPR/idUSL0146371620070101'},\n",
       " {'ts': '20070101\\xa008:25 AM EST',\n",
       "  'title': 'DIARY - Asian holidays to December 2007 = 2',\n",
       "  'href': 'http://www.reuters.com/article/companyNewsAndPR/idUSL015638920070101'},\n",
       " {'ts': '20070101\\xa008:24 AM EST',\n",
       "  'title': 'DIARY - European Holidays to December 2007',\n",
       "  'href': 'http://www.reuters.com/article/companyNewsAndPR/idUSL0613093820070101'},\n",
       " {'ts': '20070101\\xa008:21 AM EST',\n",
       "  'title': 'DIARY - MidEast/African holidays to December 2007',\n",
       "  'href': 'http://www.reuters.com/article/companyNewsAndPR/idUSL0922378620070101'},\n",
       " {'ts': '20070101\\xa008:16 AM EST',\n",
       "  'title': 'Former boxing champion stripped of honor',\n",
       "  'href': 'http://www.reuters.com/article/sportsNews/idUSL0189421820070101'},\n",
       " {'ts': '20070101\\xa008:05 AM EST',\n",
       "  'title': \"Mild jobs may lift stocks as '07 starts\",\n",
       "  'href': 'http://www.reuters.com/article/businessNews/idUSN2925725620070101'},\n",
       " {'ts': '20070101\\xa008:01 AM EST',\n",
       "  'title': 'Indian mob clashes with police over backyard bones',\n",
       "  'href': 'http://www.reuters.com/article/worldNews/idUSDEL27029420070101'},\n",
       " {'ts': '20070101\\xa008:00 AM EST',\n",
       "  'title': 'WEEKAHEAD-Emerging debt to start 2007 eyeing Brazil, US data',\n",
       "  'href': 'http://www.reuters.com/article/companyNewsAndPR/idUSN3134666220070101'},\n",
       " {'ts': '20070101\\xa007:57 AM EST',\n",
       "  'title': 'Web wishes show contrasting French election styles',\n",
       "  'href': 'http://www.reuters.com/article/technologyNews/idUSL0178602420070101'},\n",
       " {'ts': '20070101\\xa007:49 AM EST',\n",
       "  'title': '200 rescued from Indonesia ferry sinking',\n",
       "  'href': 'http://www.reuters.com/article/worldNews/idUSJAK15094820070101'},\n",
       " {'ts': '20070101\\xa007:37 AM EST',\n",
       "  'title': 'Appleby eyes fourth consecutive title in Kapa',\n",
       "  'href': 'http://www.reuters.com/article/sportsNews/idUSN3130482120070101'},\n",
       " {'ts': '20070101\\xa007:37 AM EST',\n",
       "  'title': 'Hawaii event launches 2007 PGA Tour schedule',\n",
       "  'href': 'http://www.reuters.com/article/sportsNews/idUSN3126965120070101'},\n",
       " {'ts': '20070101\\xa007:37 AM EST',\n",
       "  'title': 'FACTBOX-Inaugural FedExCup Cup',\n",
       "  'href': 'http://www.reuters.com/article/sportsNews/idUSL0188151720070101'},\n",
       " {'ts': '20070101\\xa007:37 AM EST',\n",
       "  'title': 'Revamped tour seeks excitement to last tee',\n",
       "  'href': 'http://www.reuters.com/article/sportsNews/idUSL0187483820070101'},\n",
       " {'ts': '20070101\\xa007:08 AM EST',\n",
       "  'title': 'PRESS DIGEST - New York Times - Jan 1',\n",
       "  'href': 'http://www.reuters.com/article/companyNewsAndPR/idUSBNG13770420070101'},\n",
       " {'ts': '20070101\\xa007:02 AM EST',\n",
       "  'title': 'Storms wash out New Year parties across Britain',\n",
       "  'href': 'http://www.reuters.com/article/worldNews/idUSL0189036120070101'},\n",
       " {'ts': '20070101\\xa006:48 AM EST',\n",
       "  'title': 'Pope says peace depends on respecting human rights',\n",
       "  'href': 'http://www.reuters.com/article/topNews/idUSL0189313020070101'},\n",
       " {'ts': '20070101\\xa006:29 AM EST',\n",
       "  'title': 'PRESS DIGEST - Wall Street Journal - Jan 1',\n",
       "  'href': 'http://www.reuters.com/article/companyNewsAndPR/idUSBNG14242220070101'},\n",
       " {'ts': '20070101\\xa005:39 AM EST',\n",
       "  'title': 'Israel denies breakthrough over captured soldier',\n",
       "  'href': 'http://www.reuters.com/article/worldNews/idUSL0185281320070101'},\n",
       " {'ts': '20070101\\xa005:15 AM EST',\n",
       "  'title': 'CBS conquers Thursday with reruns',\n",
       "  'href': 'http://www.reuters.com/article/televisionNews/idUSN2926481020070101'},\n",
       " {'ts': '20070101\\xa005:15 AM EST',\n",
       "  'title': 'Anchors will be on hand to cover Ford funeral',\n",
       "  'href': 'http://www.reuters.com/article/televisionNews/idUSN2921897720070101'},\n",
       " {'ts': '20070101\\xa005:15 AM EST',\n",
       "  'title': 'George Takei a \"House\" guest on Disney Channel',\n",
       "  'href': 'http://www.reuters.com/article/televisionNews/idUSN2921866620070101'},\n",
       " {'ts': '20070101\\xa005:15 AM EST',\n",
       "  'title': 'Criminal caper good for some honest laughs',\n",
       "  'href': 'http://www.reuters.com/article/televisionNews/idUSN2821849720070101'},\n",
       " {'ts': '20070101\\xa005:15 AM EST',\n",
       "  'title': 'Annie Leibovitz exposed on PBS',\n",
       "  'href': 'http://www.reuters.com/article/televisionNews/idUSN2821676320070101'},\n",
       " {'ts': '20070101\\xa005:15 AM EST',\n",
       "  'title': '\"Dirt\" better off swept under rug',\n",
       "  'href': 'http://www.reuters.com/article/televisionNews/idUSN2820745020070101'},\n",
       " {'ts': '20070101\\xa005:15 AM EST',\n",
       "  'title': 'Finland soap opera gives viewers power over plot',\n",
       "  'href': 'http://www.reuters.com/article/televisionNews/idUSL3068798820070101'},\n",
       " {'ts': '20070101\\xa005:12 AM EST',\n",
       "  'title': 'TV shows restraint with limited Saddam footage',\n",
       "  'href': 'http://www.reuters.com/article/entertainmentNews/idUSN2821679420070101'},\n",
       " {'ts': '20070101\\xa004:35 AM EST',\n",
       "  'title': 'Millions of Hindus due for holy bath in north India',\n",
       "  'href': 'http://www.reuters.com/article/worldNews/idUSDEL14406020070101'},\n",
       " {'ts': '20070101\\xa004:19 AM EST',\n",
       "  'title': 'Gene-engineered cattle resist mad cow disease: study',\n",
       "  'href': 'http://www.reuters.com/article/healthNews/idUSN3126493620070101'},\n",
       " {'ts': '20070101\\xa004:00 AM EST',\n",
       "  'title': 'New U.N. chief announces first appointments',\n",
       "  'href': 'http://www.reuters.com/article/worldNews/idUSN3126341120070101'},\n",
       " {'ts': '20070101\\xa003:49 AM EST',\n",
       "  'title': 'Lions shock Cowboys, Chiefs sneak into playoffs',\n",
       "  'href': 'http://www.reuters.com/article/sportsNews/idUSSP13823420070101'},\n",
       " {'ts': '20070101\\xa003:28 AM EST',\n",
       "  'title': 'Bush mourns death of 3,000th U.S. soldier in Iraq',\n",
       "  'href': 'http://www.reuters.com/article/topNews/idUSN3127680920070101'},\n",
       " {'ts': '20070101\\xa003:24 AM EST',\n",
       "  'title': 'Stay off Bangkok streets, foreign governments say',\n",
       "  'href': 'http://www.reuters.com/article/worldNews/idUSBKK14142020070101'},\n",
       " {'ts': '20070101\\xa003:17 AM EST',\n",
       "  'title': '\"Fallen tyrant\" taunted in Saddam video',\n",
       "  'href': 'http://www.reuters.com/article/topNews/idUSL3180350420070101'},\n",
       " {'ts': '20070101\\xa003:13 AM EST',\n",
       "  'title': 'Peace groups rally after 3,000th soldier killed',\n",
       "  'href': 'http://www.reuters.com/article/topNews/idUSN3121190420070101'},\n",
       " {'ts': '20070101\\xa003:07 AM EST',\n",
       "  'title': 'Edwards terms Iraq surge \"McCain doctrine\"',\n",
       "  'href': 'http://www.reuters.com/article/topNews/idUSN3130220020070101'},\n",
       " {'ts': '20070101\\xa003:07 AM EST',\n",
       "  'title': 'UPDATE 1-China auto exports hit record in 2006',\n",
       "  'href': 'http://www.reuters.com/article/companyNewsAndPR/idUSPEK13212620070101'},\n",
       " {'ts': '20070101\\xa002:40 AM EST',\n",
       "  'title': 'Clan plans \"Saddam library\" at burial site',\n",
       "  'href': 'http://www.reuters.com/article/topNews/idUSPAR15734620070101'},\n",
       " {'ts': '20070101\\xa002:40 AM EST',\n",
       "  'title': 'Arab media shows sharp divides over Saddam and U.S.',\n",
       "  'href': 'http://www.reuters.com/article/topNews/idUSL3086702920070101'},\n",
       " {'ts': '20070101\\xa002:40 AM EST',\n",
       "  'title': \"Hundreds flock to Saddam's tomb pledging revenge\",\n",
       "  'href': 'http://www.reuters.com/article/topNews/idUSIBO14931420070101'},\n",
       " {'ts': '20070101\\xa002:35 AM EST',\n",
       "  'title': 'DIARY - Americas holidays to December 2007 =2',\n",
       "  'href': 'http://www.reuters.com/article/companyNewsAndPR/idUSL012977420070101'},\n",
       " {'ts': '20070101\\xa002:17 AM EST',\n",
       "  'title': 'Hispanics battle blacks in major Calif. prison riot',\n",
       "  'href': 'http://www.reuters.com/article/topNews/idUSN3144650620070101'},\n",
       " {'ts': '20070101\\xa002:09 AM EST',\n",
       "  'title': 'Hundreds hurt in New Year revelry in Philippines',\n",
       "  'href': 'http://www.reuters.com/article/worldNews/idUSSP14166320070101'},\n",
       " {'ts': '20070101\\xa001:29 AM EST',\n",
       "  'title': 'Japan TV apologizes for \"topless\" New Year\\'s Eve shock',\n",
       "  'href': 'http://www.reuters.com/article/entertainmentNews/idUST13300820070101'},\n",
       " {'ts': '20070101\\xa001:09 AM EST',\n",
       "  'title': 'Somali government vows to pursue fleeing Islamists',\n",
       "  'href': 'http://www.reuters.com/article/worldNews/idUSL0186366220070101'},\n",
       " {'ts': '20070101\\xa012:59 AM EST',\n",
       "  'title': 'Thailand says Thaksin backers may be behind blasts',\n",
       "  'href': 'http://www.reuters.com/article/worldNews/idUSBKK14775120070101'},\n",
       " {'ts': '20070101\\xa007:18 PM EST',\n",
       "  'title': 'Forest Whitaker speaks out',\n",
       "  'href': 'http://www.reuters.com/news/video/videoStory?storyID=4ed7c33969d9c2aec24acc4a0191519dbb041f25'},\n",
       " {'ts': '20070101\\xa007:17 PM EST',\n",
       "  'title': 'Washington pays tribute to Ford',\n",
       "  'href': 'http://www.reuters.com/news/video/videoStory?storyID=daa1d487238fd7b30af32f15076060ad13970979'},\n",
       " {'ts': '20070101\\xa007:13 PM EST',\n",
       "  'title': 'Fancy getting dirty?',\n",
       "  'href': 'http://www.reuters.com/news/video/videoStory?storyID=dae7c44643501544d20ac4c377a833c5aeb7ee92'},\n",
       " {'ts': '20070101\\xa007:04 PM EST',\n",
       "  'title': 'Shopping gets more expensive',\n",
       "  'href': 'http://www.reuters.com/news/video/videoStory?storyID=b0534ceb8bfc25149b7965a88b4bc91418359518'},\n",
       " {'ts': '20070101\\xa005:03 PM EST',\n",
       "  'title': 'Pro-Saddam rallies in Dujail',\n",
       "  'href': 'http://www.reuters.com/news/video/videoStory?storyID=c298477fc0ccf2233914e6df7d9ccd1873339672'},\n",
       " {'ts': '20070101\\xa002:34 PM EST',\n",
       "  'title': 'A striking resemblance?',\n",
       "  'href': 'http://www.reuters.com/news/video/videoStory?storyID=FEEDROOM173523'},\n",
       " {'ts': '20070101\\xa002:07 PM EST',\n",
       "  'title': 'One final show for James Brown',\n",
       "  'href': 'http://www.reuters.com/news/video/videoStory?storyID=FEEDROOM173521'},\n",
       " {'ts': '20070101\\xa011:59 AM EST',\n",
       "  'title': 'Pro-Saddam rallies',\n",
       "  'href': 'http://www.reuters.com/news/video/videoStory?storyID=c6817bc529f01a8dfdfacb6a6c7858845aaf7f74'},\n",
       " {'ts': '20070101\\xa011:37 AM EST',\n",
       "  'title': \"Saddam's daughter attends protest\",\n",
       "  'href': 'http://www.reuters.com/news/video/videoStory?storyID=99347a6a7b3e354149492c1f369d74b7b303d34c'},\n",
       " {'ts': '20070101\\xa005:09 AM EST',\n",
       "  'title': 'Butterfly bears image of Hindu God',\n",
       "  'href': 'http://www.reuters.com/news/video/videoStory?storyID=03b94af7b9b8ba1ce3cd413c526ccba949b205ba'},\n",
       " {'ts': '20070101\\xa012:46 AM EST',\n",
       "  'title': 'Kylie sees in 2007 with UK concert',\n",
       "  'href': 'http://www.reuters.com/news/video/videoStory?storyID=66890ecbb019835bbee2386a95cad2eee563a464'}]"
      ]
     },
     "execution_count": 108,
     "metadata": {},
     "output_type": "execute_result"
    }
   ],
   "source": [
    "df"
   ]
  },
  {
   "cell_type": "code",
   "execution_count": null,
   "metadata": {},
   "outputs": [],
   "source": [
    "def scrape_pkl(dataf):\n",
    "    for i in dataf:\n",
    "        #Scrape one item \n",
    "        pageTree = requests.get(i['href'])\n",
    "        pageSoup = BeautifulSoup(pageTree.content, 'html.parser')\n",
    "        news = pageSoup.find_all(class_=\"StandardArticleBody_body\")\n",
    "        date = pageSoup.find_all(class_=\"ArticleHeader_date\")\n",
    "        date[0].get_text()\n",
    "        text = news[0].find_all('p')\n",
    "        #for i in text:\n",
    "            #print (i.get_text())\n",
    "        newstext = [i.get_text() for i in text]\n",
    "        newswords = ''.join(newstext)\n",
    "        \n",
    "\n",
    "        "
   ]
  },
  {
   "cell_type": "markdown",
   "metadata": {},
   "source": [
    "# Data Analysis of the price "
   ]
  },
  {
   "cell_type": "code",
   "execution_count": 2,
   "metadata": {},
   "outputs": [],
   "source": [
    "import dask"
   ]
  },
  {
   "cell_type": "code",
   "execution_count": 2,
   "metadata": {},
   "outputs": [],
   "source": [
    "import dask.dataframe as dd\n",
    "#df = dd.read_csv(r'F:/Algothon/mystery_symbol_train.csv')\n"
   ]
  },
  {
   "cell_type": "code",
   "execution_count": 3,
   "metadata": {},
   "outputs": [],
   "source": [
    "import matplotlib.pyplot as plt"
   ]
  },
  {
   "cell_type": "code",
   "execution_count": 4,
   "metadata": {},
   "outputs": [],
   "source": [
    "df1 = dd.read_csv(r'F:/Algothon/mystery_symbol_train_hourly.csv', names = ['Time', 'Bid', 'Ask'])"
   ]
  },
  {
   "cell_type": "code",
   "execution_count": 5,
   "metadata": {},
   "outputs": [
    {
     "data": {
      "text/html": [
       "<div>\n",
       "<style scoped>\n",
       "    .dataframe tbody tr th:only-of-type {\n",
       "        vertical-align: middle;\n",
       "    }\n",
       "\n",
       "    .dataframe tbody tr th {\n",
       "        vertical-align: top;\n",
       "    }\n",
       "\n",
       "    .dataframe thead th {\n",
       "        text-align: right;\n",
       "    }\n",
       "</style>\n",
       "<table border=\"1\" class=\"dataframe\">\n",
       "  <thead>\n",
       "    <tr style=\"text-align: right;\">\n",
       "      <th></th>\n",
       "      <th>Time</th>\n",
       "      <th>Bid</th>\n",
       "      <th>Ask</th>\n",
       "    </tr>\n",
       "  </thead>\n",
       "  <tbody>\n",
       "    <tr>\n",
       "      <th>0</th>\n",
       "      <td>2014-01-07 19:01:44</td>\n",
       "      <td>2.089104</td>\n",
       "      <td>2.089494</td>\n",
       "    </tr>\n",
       "    <tr>\n",
       "      <th>1</th>\n",
       "      <td>2014-01-01 22:16:49</td>\n",
       "      <td>2.103845</td>\n",
       "      <td>2.105437</td>\n",
       "    </tr>\n",
       "    <tr>\n",
       "      <th>2</th>\n",
       "      <td>2014-01-01 23:04:29</td>\n",
       "      <td>2.102774</td>\n",
       "      <td>2.103814</td>\n",
       "    </tr>\n",
       "    <tr>\n",
       "      <th>3</th>\n",
       "      <td>2014-01-02 0:03:17</td>\n",
       "      <td>2.103572</td>\n",
       "      <td>2.104394</td>\n",
       "    </tr>\n",
       "    <tr>\n",
       "      <th>4</th>\n",
       "      <td>2014-01-02 1:22:43</td>\n",
       "      <td>2.102935</td>\n",
       "      <td>2.103811</td>\n",
       "    </tr>\n",
       "  </tbody>\n",
       "</table>\n",
       "</div>"
      ],
      "text/plain": [
       "                  Time       Bid       Ask\n",
       "0  2014-01-07 19:01:44  2.089104  2.089494\n",
       "1  2014-01-01 22:16:49  2.103845  2.105437\n",
       "2  2014-01-01 23:04:29  2.102774  2.103814\n",
       "3   2014-01-02 0:03:17  2.103572  2.104394\n",
       "4   2014-01-02 1:22:43  2.102935  2.103811"
      ]
     },
     "execution_count": 5,
     "metadata": {},
     "output_type": "execute_result"
    }
   ],
   "source": [
    "df1.head()"
   ]
  },
  {
   "cell_type": "code",
   "execution_count": null,
   "metadata": {},
   "outputs": [],
   "source": [
    "plt.plot(df1['Time'], df1['Bid'])"
   ]
  },
  {
   "cell_type": "code",
   "execution_count": 82,
   "metadata": {},
   "outputs": [],
   "source": [
    "bid = np.array(df1['Bid'])\n",
    "ask = np.array(df1[\"Ask\"])\n",
    "time = np.array(df1[\"Time\"])"
   ]
  },
  {
   "cell_type": "code",
   "execution_count": 7,
   "metadata": {},
   "outputs": [
    {
     "data": {
      "text/plain": [
       "array([-0.00038996, -0.00159164, -0.00103971, ..., -0.00025778,\n",
       "       -0.00026245, -0.00043373])"
      ]
     },
     "execution_count": 7,
     "metadata": {},
     "output_type": "execute_result"
    }
   ],
   "source": [
    "spread = np.array(bid) - np.array(ask)\n",
    "spread"
   ]
  },
  {
   "cell_type": "code",
   "execution_count": 8,
   "metadata": {},
   "outputs": [],
   "source": [
    "yee = np.delete(np.array(bid), 24353\n",
    "               )\n",
    "yee1 = np.delete(np.array(ask), 24353)"
   ]
  },
  {
   "cell_type": "code",
   "execution_count": 9,
   "metadata": {},
   "outputs": [],
   "source": [
    "ret_bid = np.array(bid) - np.append(yee[0],yee)\n",
    "ret_ask = np.array(ask) - np.append(yee1[0],yee1)"
   ]
  },
  {
   "cell_type": "code",
   "execution_count": 10,
   "metadata": {},
   "outputs": [
    {
     "data": {
      "text/plain": [
       "array([ 0.        ,  0.01474039, -0.00107073, ..., -0.00037746,\n",
       "       -0.00020765,  0.00080316])"
      ]
     },
     "execution_count": 10,
     "metadata": {},
     "output_type": "execute_result"
    }
   ],
   "source": [
    "ret_bid"
   ]
  },
  {
   "cell_type": "code",
   "execution_count": 29,
   "metadata": {},
   "outputs": [
    {
     "data": {
      "text/plain": [
       "[<matplotlib.lines.Line2D at 0x22912fb6400>]"
      ]
     },
     "execution_count": 29,
     "metadata": {},
     "output_type": "execute_result"
    },
    {
     "data": {
      "image/png": "[encoded data removed]",
      "text/plain": [
       "<Figure size 432x288 with 1 Axes>"
      ]
     },
     "metadata": {},
     "output_type": "display_data"
    }
   ],
   "source": [
    "plt.plot(time[:100], ret_bid[:100])"
   ]
  },
  {
   "cell_type": "code",
   "execution_count": 11,
   "metadata": {},
   "outputs": [],
   "source": [
    "import somoclu"
   ]
  },
  {
   "cell_type": "code",
   "execution_count": 59,
   "metadata": {},
   "outputs": [],
   "source": [
    "rbtest = ret_bid[:20000]\n",
    "to_train = []\n",
    "for i in range(0,len(rbtest)-128):\n",
    "    to_train.append(rbtest[i:128+i])"
   ]
  },
  {
   "cell_type": "code",
   "execution_count": 60,
   "metadata": {},
   "outputs": [
    {
     "data": {
      "text/plain": [
       "(19872, 128)"
      ]
     },
     "execution_count": 60,
     "metadata": {},
     "output_type": "execute_result"
    }
   ],
   "source": [
    "boo = np.array(to_train)\n",
    "boo.shape"
   ]
  },
  {
   "cell_type": "code",
   "execution_count": 61,
   "metadata": {},
   "outputs": [
    {
     "name": "stdout",
     "output_type": "stream",
     "text": [
      "Warning: data was not float32. A 32-bit copy was made\n"
     ]
    }
   ],
   "source": [
    "som = somoclu.Somoclu(5, 5, compactsupport=False)\n",
    "som.train(boo, epochs = 300)"
   ]
  },
  {
   "cell_type": "code",
   "execution_count": 62,
   "metadata": {},
   "outputs": [
    {
     "data": {
      "image/png": "[encoded data removed]",
      "text/plain": [
       "<Figure size 432x288 with 25 Axes>"
      ]
     },
     "metadata": {},
     "output_type": "display_data"
    }
   ],
   "source": [
    "fig, ax = plt.subplots(5,5)\n",
    "\n",
    "for i in range(5):\n",
    "    for j in range(5):\n",
    "\n",
    "        ax[i][j].plot(np.arange(0,128),som.codebook[i][j])"
   ]
  },
  {
   "cell_type": "code",
   "execution_count": 63,
   "metadata": {},
   "outputs": [
    {
     "data": {
      "text/plain": [
       "[0.03819444444444445,\n",
       " 0.03894927536231884,\n",
       " 0.039301529790660227,\n",
       " 0.04186795491143317,\n",
       " 0.04030797101449275,\n",
       " 0.04035829307568438,\n",
       " 0.042119565217391304,\n",
       " 0.03834541062801932,\n",
       " 0.03864734299516908,\n",
       " 0.039754428341384866,\n",
       " 0.04121376811594203,\n",
       " 0.03940217391304348,\n",
       " 0.0375402576489533,\n",
       " 0.0375402576489533,\n",
       " 0.04045893719806763,\n",
       " 0.041314412238325285,\n",
       " 0.03985507246376811,\n",
       " 0.03663446054750403,\n",
       " 0.04327697262479871,\n",
       " 0.04045893719806763,\n",
       " 0.04081119162640902,\n",
       " 0.04091183574879227,\n",
       " 0.03864734299516908,\n",
       " 0.044736312399355875,\n",
       " 0.03935185185185185]"
      ]
     },
     "execution_count": 63,
     "metadata": {},
     "output_type": "execute_result"
    }
   ],
   "source": [
    "fracs = []\n",
    "for i in range(5):\n",
    "    for j in range(5):\n",
    "        deh = 0\n",
    "        for k in som.bmus:\n",
    "            if k[0] == i and k[1] == j:\n",
    "                deh += 1\n",
    "        frac = deh/len(som.bmus)\n",
    "        fracs.append(frac)    \n",
    "fracs"
   ]
  },
  {
   "cell_type": "code",
   "execution_count": 66,
   "metadata": {},
   "outputs": [
    {
     "data": {
      "text/plain": [
       "array([[2, 1],\n",
       "       [0, 3],\n",
       "       [3, 4],\n",
       "       [1, 3],\n",
       "       [3, 3],\n",
       "       [0, 1],\n",
       "       [2, 3],\n",
       "       [1, 2],\n",
       "       [3, 0],\n",
       "       [2, 3],\n",
       "       [0, 4],\n",
       "       [3, 0],\n",
       "       [0, 3],\n",
       "       [2, 1],\n",
       "       [1, 3],\n",
       "       [2, 1],\n",
       "       [2, 3],\n",
       "       [4, 3],\n",
       "       [1, 3],\n",
       "       [3, 0]], dtype=int32)"
      ]
     },
     "execution_count": 66,
     "metadata": {},
     "output_type": "execute_result"
    }
   ],
   "source": [
    "som.bmus[-20:]"
   ]
  },
  {
   "cell_type": "code",
   "execution_count": 75,
   "metadata": {},
   "outputs": [
    {
     "data": {
      "text/plain": [
       "array([ 4.67467435e-05, -2.86000810e-04,  1.67683065e-05, -2.41193615e-04,\n",
       "        2.12996951e-04,  2.94520996e-05,  1.02270387e-04, -8.45041868e-05,\n",
       "        1.65411155e-04,  1.88773673e-04, -1.40016578e-04,  9.41794642e-05,\n",
       "       -1.39056239e-04, -1.45855563e-04, -3.26993654e-06, -7.81164053e-05,\n",
       "        7.13427726e-05,  3.36270663e-04, -4.10416571e-04,  2.30480873e-04,\n",
       "       -2.60099361e-04,  2.35643151e-04, -2.81760440e-04, -8.35891042e-05,\n",
       "       -8.88185896e-05, -3.39694598e-05,  5.35738363e-04, -3.67195724e-04,\n",
       "        2.12777421e-04, -1.56376584e-04,  3.19427636e-05, -7.94540028e-05,\n",
       "       -2.94191210e-04,  3.22117849e-04, -3.12551529e-05,  9.10894523e-05,\n",
       "        1.14418406e-04, -1.33896494e-04,  1.87281723e-04, -3.07167473e-04,\n",
       "        3.45301785e-04, -2.62225600e-04,  1.31824228e-04, -1.79731156e-04,\n",
       "        1.98704001e-04, -2.19971669e-04,  2.77454237e-04, -9.59356184e-05,\n",
       "        1.19190947e-04, -8.86516282e-05,  1.62457480e-04, -1.49167288e-04,\n",
       "        1.92899752e-04,  8.49264907e-05,  1.07103158e-04,  9.78885219e-05,\n",
       "       -1.86479476e-04, -1.59511750e-04, -1.24075785e-04, -4.77595131e-05,\n",
       "        1.77229536e-04, -4.40129137e-04,  1.30567583e-04, -1.46188599e-04,\n",
       "       -4.36665232e-06,  1.05084204e-04,  4.45420919e-05,  7.39587704e-05,\n",
       "       -9.12501200e-05,  4.68157741e-05, -1.80997682e-04,  8.56620667e-04,\n",
       "       -6.74839248e-04, -9.36757715e-05, -1.51513726e-04,  6.48407149e-05,\n",
       "        4.79109294e-05,  6.38621568e-05, -2.19860551e-04,  2.41308298e-04,\n",
       "       -2.81093351e-04,  3.25002155e-04, -3.70669062e-04,  5.92660799e-05,\n",
       "        9.20378079e-06,  8.26431060e-05, -1.71836407e-04,  1.17925185e-04,\n",
       "        4.78348920e-05,  4.28216990e-05,  1.26165003e-04, -4.13587586e-05,\n",
       "       -6.93026814e-05, -1.09931592e-04, -2.94858455e-05,  6.39436257e-05,\n",
       "        1.90996230e-04, -5.40902693e-05,  6.64440857e-04, -9.08133283e-04,\n",
       "        5.93591307e-04, -2.58353888e-04,  8.05383024e-05, -9.17887010e-05,\n",
       "       -1.47727687e-05, -6.84101324e-05,  4.29396227e-04, -3.38359445e-04,\n",
       "       -4.28141211e-05, -4.91793526e-06,  2.37242595e-04, -1.68903309e-04,\n",
       "       -3.13133205e-05,  6.60817022e-05,  1.41903598e-04,  1.37284063e-04,\n",
       "       -2.95414648e-04, -6.61040249e-05, -3.77320757e-05, -5.12891093e-05,\n",
       "       -4.18096679e-05, -3.24911962e-05,  4.21858203e-05, -4.20154865e-05,\n",
       "       -4.15003051e-05,  1.57963514e-04, -3.13987519e-04,  2.21317372e-04],\n",
       "      dtype=float32)"
      ]
     },
     "execution_count": 75,
     "metadata": {},
     "output_type": "execute_result"
    }
   ],
   "source": [
    "som.codebook[0][3]"
   ]
  },
  {
   "cell_type": "code",
   "execution_count": 77,
   "metadata": {},
   "outputs": [
    {
     "data": {
      "text/plain": [
       "array([-2.408890e-04, -9.655100e-05, -3.285500e-04,  3.495460e-04,\n",
       "        5.758480e-04, -8.884310e-04, -5.871480e-04, -1.103430e-04,\n",
       "        1.722600e-05, -3.632800e-04,  2.475000e-05,  2.729740e-04,\n",
       "       -7.460700e-05, -5.406670e-04, -2.935240e-04,  4.849870e-04,\n",
       "       -5.057940e-04,  7.529710e-04, -9.974000e-06, -3.464180e-04,\n",
       "       -1.161675e-03,  6.064650e-04,  2.788100e-04,  9.496250e-04,\n",
       "        1.470028e-03,  1.132760e-04,  8.495330e-04,  4.167290e-04,\n",
       "       -3.786690e-04, -4.433330e-04, -2.945811e-03, -4.968214e-03,\n",
       "       -4.250170e-04,  2.558930e-04, -1.434045e-03, -4.019920e-04,\n",
       "        2.453460e-04, -9.786740e-04,  2.647680e-04,  1.095679e-03,\n",
       "        7.127100e-05, -5.491040e-04,  1.326415e-03, -9.267430e-04,\n",
       "        4.260590e-04, -4.678230e-04,  1.031778e-03,  9.744970e-04,\n",
       "        1.047729e-03, -5.619280e-04, -1.571600e-04, -2.508860e-04,\n",
       "       -2.422200e-05,  2.001590e-04,  1.137636e-03, -9.136600e-04,\n",
       "       -6.796800e-05, -1.035345e-03,  3.714130e-04,  1.577280e-04,\n",
       "        1.410462e-03, -1.922807e-03, -3.063740e-04,  1.058120e-03,\n",
       "       -1.650391e-03, -1.261566e-03,  1.472265e-03,  1.984567e-03,\n",
       "        1.932148e-03, -1.464730e-04,  8.276430e-04, -1.603852e-03,\n",
       "       -2.811110e-04, -1.381263e-03, -3.765390e-04,  9.680200e-05,\n",
       "       -4.355450e-04,  9.442480e-04, -6.667020e-04,  1.224350e-03,\n",
       "       -2.490970e-04, -8.872730e-04, -2.810060e-04,  2.606900e-04,\n",
       "       -3.813000e-05, -2.207312e-03,  1.219163e-03,  5.971010e-04,\n",
       "        3.326350e-04, -4.355850e-04,  1.693873e-03, -1.211821e-03,\n",
       "        8.969420e-04, -2.673390e-04, -1.605033e-03,  1.054815e-03,\n",
       "       -1.187210e-04,  3.009410e-04,  1.780270e-04, -5.460320e-04,\n",
       "        2.065000e-04, -3.673280e-04, -1.162021e-03, -3.782580e-04,\n",
       "       -4.693200e-04, -2.259460e-04, -2.067730e-04, -6.349420e-04,\n",
       "       -2.652240e-04, -1.852144e-03,  2.633470e-04, -5.423550e-04,\n",
       "        2.399470e-04, -1.345540e-04,  4.348320e-04,  1.417562e-03,\n",
       "        1.519608e-03,  1.503263e-03, -1.816470e-03, -9.687360e-04,\n",
       "        1.346790e-04,  9.941150e-04,  7.304350e-04, -4.389600e-04,\n",
       "       -1.117449e-03,  6.968180e-04, -2.211200e-05,  5.305520e-04])"
      ]
     },
     "execution_count": 77,
     "metadata": {},
     "output_type": "execute_result"
    }
   ],
   "source": [
    "ret_bid[19871:19999]"
   ]
  },
  {
   "cell_type": "code",
   "execution_count": null,
   "metadata": {},
   "outputs": [],
   "source": []
  },
  {
   "cell_type": "code",
   "execution_count": null,
   "metadata": {},
   "outputs": [],
   "source": []
  },
  {
   "cell_type": "code",
   "execution_count": null,
   "metadata": {},
   "outputs": [],
   "source": []
  },
  {
   "cell_type": "markdown",
   "metadata": {},
   "source": [
    "# SOM techniques in price prediction"
   ]
  },
  {
   "cell_type": "markdown",
   "metadata": {},
   "source": [
    "Build on some previous literature, experiment the method to some extent. "
   ]
  },
  {
   "cell_type": "code",
   "execution_count": 42,
   "metadata": {},
   "outputs": [
    {
     "data": {
      "text/plain": [
       "(24354,)"
      ]
     },
     "execution_count": 42,
     "metadata": {},
     "output_type": "execute_result"
    }
   ],
   "source": [
    "bid.shape"
   ]
  },
  {
   "cell_type": "markdown",
   "metadata": {},
   "source": [
    "Try on raw buy price..."
   ]
  },
  {
   "cell_type": "markdown",
   "metadata": {},
   "source": [
    "Define some training and test ratio"
   ]
  },
  {
   "cell_type": "code",
   "execution_count": 43,
   "metadata": {},
   "outputs": [
    {
     "name": "stdout",
     "output_type": "stream",
     "text": [
      "Warning: data was not float32. A 32-bit copy was made\n"
     ]
    }
   ],
   "source": [
    "bidtest = bid[:20000]\n",
    "\n",
    "\n",
    "to_train1 = []\n",
    "for i in range(0,len(bidtest)-128):\n",
    "    to_train1.append(bidtest[i:128+i])\n",
    "boo1 = np.array(to_train1)\n",
    "boo1.shape\n",
    "#Train the SOM\n",
    "som1 = somoclu.Somoclu(5, 5, compactsupport=False)\n",
    "som1.train(boo1, epochs = 500)"
   ]
  },
  {
   "cell_type": "code",
   "execution_count": 45,
   "metadata": {},
   "outputs": [
    {
     "data": {
      "image/png": "[encoded data removed]",
      "text/plain": [
       "<Figure size 432x288 with 25 Axes>"
      ]
     },
     "metadata": {},
     "output_type": "display_data"
    }
   ],
   "source": [
    "fig, ax = plt.subplots(5,5)\n",
    "\n",
    "for i in range(5):\n",
    "    for j in range(5):\n",
    "\n",
    "        ax[i][j].plot(np.arange(0,128),som1.codebook[i][j] )"
   ]
  },
  {
   "cell_type": "code",
   "execution_count": 46,
   "metadata": {},
   "outputs": [
    {
     "data": {
      "text/plain": [
       "array([0.01726047, 0.07694243, 0.03155193, 0.05062399, 0.05480072,\n",
       "       0.03361514, 0.01912238, 0.04589372, 0.05364332, 0.03104871,\n",
       "       0.05495169, 0.0415157 , 0.03250805, 0.03311192, 0.02204106,\n",
       "       0.02933776, 0.07875403, 0.04292472, 0.01766304, 0.02712359,\n",
       "       0.0513285 , 0.02173913, 0.05424718, 0.04126409, 0.03698671])"
      ]
     },
     "execution_count": 46,
     "metadata": {},
     "output_type": "execute_result"
    }
   ],
   "source": [
    "fracs = []\n",
    "for i in range(5):\n",
    "    for j in range(5):\n",
    "        deh = 0\n",
    "        for k in som1.bmus:\n",
    "            if k[0] == i and k[1] == j:\n",
    "                deh += 1\n",
    "        frac = deh/len(som1.bmus)\n",
    "        fracs.append(frac)    \n",
    "np.array(fracs)"
   ]
  },
  {
   "cell_type": "code",
   "execution_count": 20,
   "metadata": {},
   "outputs": [
    {
     "data": {
      "text/plain": [
       "[<matplotlib.lines.Line2D at 0x22911a11320>]"
      ]
     },
     "execution_count": 20,
     "metadata": {},
     "output_type": "execute_result"
    },
    {
     "data": {
      "image/png": "[encoded data removed]",
      "text/plain": [
       "<Figure size 432x288 with 1 Axes>"
      ]
     },
     "metadata": {},
     "output_type": "display_data"
    }
   ],
   "source": [
    "plt.plot(time[:500], bid[:500])"
   ]
  },
  {
   "cell_type": "code",
   "execution_count": 123,
   "metadata": {},
   "outputs": [
    {
     "data": {
      "text/plain": [
       "array([3, 0], dtype=int32)"
      ]
     },
     "execution_count": 123,
     "metadata": {},
     "output_type": "execute_result"
    }
   ],
   "source": [
    "som1.bmus[-1]"
   ]
  },
  {
   "cell_type": "code",
   "execution_count": 48,
   "metadata": {},
   "outputs": [
    {
     "data": {
      "text/plain": [
       "[<matplotlib.lines.Line2D at 0x229105981d0>]"
      ]
     },
     "execution_count": 48,
     "metadata": {},
     "output_type": "execute_result"
    },
    {
     "data": {
      "image/png": "[encoded data removed]",
      "text/plain": [
       "<Figure size 432x288 with 1 Axes>"
      ]
     },
     "metadata": {},
     "output_type": "display_data"
    }
   ],
   "source": [
    "plt.plot(np.arange(128), som1.codebook[3][0])"
   ]
  },
  {
   "cell_type": "code",
   "execution_count": 44,
   "metadata": {},
   "outputs": [
    {
     "data": {
      "text/plain": [
       "[<matplotlib.lines.Line2D at 0x2290dbdde10>]"
      ]
     },
     "execution_count": 44,
     "metadata": {},
     "output_type": "execute_result"
    },
    {
     "data": {
      "image/png": "[encoded data removed]",
      "text/plain": [
       "<Figure size 432x288 with 1 Axes>"
      ]
     },
     "metadata": {},
     "output_type": "display_data"
    }
   ],
   "source": [
    "timetest = time[:20000]\n",
    "plt.plot(timetest[-128:], bidtest[-128:])"
   ]
  },
  {
   "cell_type": "code",
   "execution_count": 54,
   "metadata": {},
   "outputs": [
    {
     "data": {
      "text/plain": [
       "[<matplotlib.lines.Line2D at 0x2290dd35940>]"
      ]
     },
     "execution_count": 54,
     "metadata": {},
     "output_type": "execute_result"
    },
    {
     "data": {
      "image/png": "[encoded data removed]",
      "text/plain": [
       "<Figure size 432x288 with 1 Axes>"
      ]
     },
     "metadata": {},
     "output_type": "display_data"
    }
   ],
   "source": [
    "plt.plot(time[19936:20064], bid[19936:20064])"
   ]
  },
  {
   "cell_type": "code",
   "execution_count": 91,
   "metadata": {},
   "outputs": [],
   "source": [
    "import random\n",
    "new = bid[19999] + random.choice(som1.codebook[3][0] - np.mean(som1.codebook[3][0]))\n",
    "bidtest = np.append(bidtest, new)"
   ]
  },
  {
   "cell_type": "code",
   "execution_count": 86,
   "metadata": {},
   "outputs": [
    {
     "data": {
      "text/plain": [
       "2.094588837"
      ]
     },
     "execution_count": 86,
     "metadata": {},
     "output_type": "execute_result"
    }
   ],
   "source": [
    "bid[20000]"
   ]
  },
  {
   "cell_type": "code",
   "execution_count": 107,
   "metadata": {},
   "outputs": [],
   "source": [
    "#Calc which node the new window belongs to, guess the px direction based on the possible range of movement\n",
    "dislist = [[0]*5 for i in range(5)]\n",
    "for i in range(5):\n",
    "    for j in range(5):\n",
    "        dist = np.linalg.norm(bidtest[-128:] - som1.codebook[i][j])\n",
    "        dislist[i][j] = dist"
   ]
  },
  {
   "cell_type": "code",
   "execution_count": 112,
   "metadata": {},
   "outputs": [
    {
     "data": {
      "text/plain": [
       "2"
      ]
     },
     "execution_count": 112,
     "metadata": {},
     "output_type": "execute_result"
    }
   ],
   "source": [
    "np.argmin(dislist)"
   ]
  },
  {
   "cell_type": "markdown",
   "metadata": {},
   "source": [
    "---> It belongs to SOM 0, 2 "
   ]
  },
  {
   "cell_type": "code",
   "execution_count": 103,
   "metadata": {},
   "outputs": [],
   "source": [
    "dislist = [[0]*5 for i in range(5)]"
   ]
  },
  {
   "cell_type": "code",
   "execution_count": 116,
   "metadata": {},
   "outputs": [],
   "source": [
    "dislist = np.array(dislist)"
   ]
  },
  {
   "cell_type": "code",
   "execution_count": 128,
   "metadata": {},
   "outputs": [
    {
     "data": {
      "text/plain": [
       "[0, 2]"
      ]
     },
     "execution_count": 128,
     "metadata": {},
     "output_type": "execute_result"
    }
   ],
   "source": [
    "pat = np.unravel_index(dislist.argmin(), dislist.shape)\n",
    "list(pat)"
   ]
  },
  {
   "cell_type": "code",
   "execution_count": 118,
   "metadata": {},
   "outputs": [
    {
     "data": {
      "text/plain": [
       "array([[2.11675116, 2.08914757, 2.08695264, 2.09838444, 2.14577697],\n",
       "       [2.13662815, 2.1094281 , 2.08757932, 2.09249404, 2.10802366],\n",
       "       [2.1842249 , 2.15718421, 2.10673507, 2.09428268, 2.0987697 ],\n",
       "       [2.30205052, 2.23159589, 2.16087715, 2.11067046, 2.09898838],\n",
       "       [2.44858397, 2.3156404 , 2.20003525, 2.12852686, 2.10144414]])"
      ]
     },
     "execution_count": 118,
     "metadata": {},
     "output_type": "execute_result"
    }
   ],
   "source": [
    "dislist"
   ]
  },
  {
   "cell_type": "code",
   "execution_count": 119,
   "metadata": {},
   "outputs": [
    {
     "data": {
      "text/plain": [
       "2.096452361650818"
      ]
     },
     "execution_count": 119,
     "metadata": {},
     "output_type": "execute_result"
    }
   ],
   "source": [
    "new1 = bidtest[-1] + random.choice(som1.codebook[0][2] - np.mean(som1.codebook[0][2]))\n",
    "new1"
   ]
  },
  {
   "cell_type": "code",
   "execution_count": 120,
   "metadata": {},
   "outputs": [
    {
     "data": {
      "text/plain": [
       "2.093067146"
      ]
     },
     "execution_count": 120,
     "metadata": {},
     "output_type": "execute_result"
    }
   ],
   "source": [
    "bid[20001]"
   ]
  },
  {
   "cell_type": "code",
   "execution_count": 131,
   "metadata": {},
   "outputs": [],
   "source": [
    "bidtest = bid[:20000]"
   ]
  },
  {
   "cell_type": "code",
   "execution_count": 223,
   "metadata": {},
   "outputs": [],
   "source": [
    "def predict(hours):\n",
    "    \n",
    "    #Start from index 19999\n",
    "    bidtest = bid[:20000]\n",
    "    \n",
    "    #First new price calculation\n",
    "    curr_pat = som1.bmus[-1]\n",
    "    row = curr_pat[1]\n",
    "    col = curr_pat[0]\n",
    "    \n",
    "    new = bidtest[-1] + random.choice(som1.codebook[row][col] - np.mean(som1.codebook[row][col]))\n",
    "    bidtest = np.append(bidtest, new)\n",
    "    #Calculate a new price this number of times\n",
    "    for k in range(hours-1):\n",
    "        #Calc the SOM pattern of the 128 hrs current window \n",
    "        dislist = [[0]*5 for x in range(5)]\n",
    "        for i in range(5):\n",
    "            for j in range(5):\n",
    "                dist = np.linalg.norm(bidtest[-128:] - som1.codebook[i][j])\n",
    "                dislist[i][j] = dist\n",
    "        dislist = np.array(dislist)        \n",
    "        pat = np.unravel_index(dislist.argmin(), dislist.shape)\n",
    "        rw = list(pat)[0]\n",
    "        cl = list(pat)[1]\n",
    "        \n",
    "        # Guess next price \n",
    "        new1 = bidtest[-1] + random.choice(som1.codebook[rw][cl] - np.mean(som1.codebook[rw][cl]))\n",
    "        bidtest = np.append(bidtest, new1)\n",
    "    global gooda\n",
    "    gooda = bidtest\n",
    "    return gooda\n",
    "        "
   ]
  },
  {
   "cell_type": "code",
   "execution_count": 224,
   "metadata": {},
   "outputs": [
    {
     "data": {
      "text/plain": [
       "(24354,)"
      ]
     },
     "execution_count": 224,
     "metadata": {},
     "output_type": "execute_result"
    }
   ],
   "source": [
    "predict(4354).shape"
   ]
  },
  {
   "cell_type": "code",
   "execution_count": 225,
   "metadata": {},
   "outputs": [
    {
     "data": {
      "text/plain": [
       "array([2.08910448, 2.10384487, 2.10277414, ..., 2.14231182, 2.14278961,\n",
       "       2.14326597])"
      ]
     },
     "execution_count": 225,
     "metadata": {},
     "output_type": "execute_result"
    }
   ],
   "source": [
    "gooda"
   ]
  },
  {
   "cell_type": "code",
   "execution_count": 226,
   "metadata": {},
   "outputs": [
    {
     "data": {
      "text/plain": [
       "[<matplotlib.lines.Line2D at 0x22910347908>]"
      ]
     },
     "execution_count": 226,
     "metadata": {},
     "output_type": "execute_result"
    },
    {
     "data": {
      "image/png": "[encoded data removed]",
      "text/plain": [
       "<Figure size 432x288 with 1 Axes>"
      ]
     },
     "metadata": {},
     "output_type": "display_data"
    }
   ],
   "source": [
    "plt.plot(time[24000:], gooda[24000:])"
   ]
  },
  {
   "cell_type": "code",
   "execution_count": 158,
   "metadata": {},
   "outputs": [
    {
     "data": {
      "text/plain": [
       "[<matplotlib.lines.Line2D at 0x22913454320>]"
      ]
     },
     "execution_count": 158,
     "metadata": {},
     "output_type": "execute_result"
    },
    {
     "data": {
      "image/png": "[encoded data removed]",
      "text/plain": [
       "<Figure size 432x288 with 1 Axes>"
      ]
     },
     "metadata": {},
     "output_type": "display_data"
    }
   ],
   "source": [
    "plt.plot(time[24000:], bid[24000:])"
   ]
  },
  {
   "cell_type": "code",
   "execution_count": 227,
   "metadata": {},
   "outputs": [],
   "source": [
    "error = np.sqrt(np.mean((gooda[20000:]-bid[20000:])**2))"
   ]
  },
  {
   "cell_type": "code",
   "execution_count": 228,
   "metadata": {},
   "outputs": [
    {
     "data": {
      "text/plain": [
       "0.028699941413685745"
      ]
     },
     "execution_count": 228,
     "metadata": {},
     "output_type": "execute_result"
    }
   ],
   "source": [
    "error"
   ]
  },
  {
   "cell_type": "code",
   "execution_count": 170,
   "metadata": {},
   "outputs": [
    {
     "data": {
      "text/plain": [
       "array([-2.35512520e-04,  4.11620701e-03,  9.46575197e-04, ...,\n",
       "       -2.41898311e-01, -2.41228245e-01, -2.41572928e-01])"
      ]
     },
     "execution_count": 170,
     "metadata": {},
     "output_type": "execute_result"
    }
   ],
   "source": [
    "gooda[20000:]-bid[20000:]"
   ]
  },
  {
   "cell_type": "code",
   "execution_count": 172,
   "metadata": {},
   "outputs": [],
   "source": [
    "df = dd.read_csv(r'F:/Algothon/mystery_symbol_train_daily.csv', names = ['Time', 'Bid', 'Ask'])"
   ]
  },
  {
   "cell_type": "code",
   "execution_count": 175,
   "metadata": {},
   "outputs": [
    {
     "data": {
      "text/plain": [
       "array([2.10147436, 2.09973626, 2.09502434, ..., 2.16465474, 2.16797568,\n",
       "       2.16731642])"
      ]
     },
     "execution_count": 175,
     "metadata": {},
     "output_type": "execute_result"
    }
   ],
   "source": [
    "np.array(df['Bid'])"
   ]
  },
  {
   "cell_type": "code",
   "execution_count": 229,
   "metadata": {},
   "outputs": [],
   "source": [
    "all_shit = []\n",
    "for x in range(100):\n",
    "    all_shit.append(predict(4354))\n",
    "    "
   ]
  },
  {
   "cell_type": "code",
   "execution_count": 230,
   "metadata": {},
   "outputs": [
    {
     "data": {
      "text/plain": [
       "array([2.08910448, 2.10384487, 2.10277414, ..., 2.10421509, 2.10433069,\n",
       "       2.1042314 ])"
      ]
     },
     "execution_count": 230,
     "metadata": {},
     "output_type": "execute_result"
    }
   ],
   "source": [
    "deh = np.mean(np.array(all_shit), axis=0)\n",
    "deh"
   ]
  },
  {
   "cell_type": "code",
   "execution_count": 231,
   "metadata": {},
   "outputs": [
    {
     "data": {
      "text/plain": [
       "0.05523123335629908"
      ]
     },
     "execution_count": 231,
     "metadata": {},
     "output_type": "execute_result"
    }
   ],
   "source": [
    "error = np.sqrt(np.mean((deh[20000:]-bid[20000:])**2))\n",
    "error"
   ]
  },
  {
   "cell_type": "code",
   "execution_count": 232,
   "metadata": {},
   "outputs": [
    {
     "data": {
      "text/plain": [
       "[<matplotlib.lines.Line2D at 0x22918bcfac8>]"
      ]
     },
     "execution_count": 232,
     "metadata": {},
     "output_type": "execute_result"
    },
    {
     "data": {
      "image/png": "[encoded data removed]",
      "text/plain": [
       "<Figure size 432x288 with 1 Axes>"
      ]
     },
     "metadata": {},
     "output_type": "display_data"
    }
   ],
   "source": [
    "plt.plot(time[24100:], deh[24100:])"
   ]
  }
 ],
 "metadata": {
  "kernelspec": {
   "display_name": "Python 3",
   "language": "python",
   "name": "python3"
  },
  "language_info": {
   "codemirror_mode": {
    "name": "ipython",
    "version": 3
   },
   "file_extension": ".py",
   "mimetype": "text/x-python",
   "name": "python",
   "nbconvert_exporter": "python",
   "pygments_lexer": "ipython3",
   "version": "3.6.5"
  }
 },
 "nbformat": 4,
 "nbformat_minor": 2
}
